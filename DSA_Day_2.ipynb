{
  "nbformat": 4,
  "nbformat_minor": 0,
  "metadata": {
    "colab": {
      "provenance": []
    },
    "kernelspec": {
      "name": "python3",
      "display_name": "Python 3"
    },
    "language_info": {
      "name": "python"
    }
  },
  "cells": [
    {
      "cell_type": "markdown",
      "source": [
        "## **Day 2 : Recursion** 🙄\n",
        "\n",
        "#### Recursion is when a function calls itself to solve a smaller part of the same problem. It's like solving a big puzzle by breaking it into smaller, similar pieces and solving each one step-by-step.\n",
        "\n",
        "### **Key Parts of Recursion:**\n",
        "####Base Case: The simple case that stops the function from calling itself more. It prevents an endless loop.\n",
        "####Recursive Case: The part where the function calls itself with a smaller or simpler input"
      ],
      "metadata": {
        "id": "g49s952D86h0"
      }
    },
    {
      "cell_type": "code",
      "source": [
        "## Program 1 Print n numbers\n",
        "\n",
        "def show(n):\n",
        "  if n==0: ## Base Case\n",
        "    return\n",
        "  print(n)\n",
        "  show(n-1) ## Recursive Case\n",
        "\n",
        "show(5)"
      ],
      "metadata": {
        "colab": {
          "base_uri": "https://localhost:8080/"
        },
        "id": "Q4MSd9qk9APQ",
        "outputId": "cfb28998-463a-4442-8a8d-bca329f6c460"
      },
      "execution_count": 3,
      "outputs": [
        {
          "output_type": "stream",
          "name": "stdout",
          "text": [
            "5\n",
            "4\n",
            "3\n",
            "2\n",
            "1\n"
          ]
        }
      ]
    },
    {
      "cell_type": "code",
      "source": [
        "## Program 2 Factorial of number\n",
        "\n",
        "def fact(n):\n",
        "  if n==0 or n==1:## base case\n",
        "    return 1\n",
        "  return fact(n-1)*n ## recursive case\n",
        "\n",
        "fact(5)"
      ],
      "metadata": {
        "colab": {
          "base_uri": "https://localhost:8080/"
        },
        "id": "bHMFfl-SBkPi",
        "outputId": "f3d2c671-479f-4620-b64c-bc1eaf83c786"
      },
      "execution_count": 8,
      "outputs": [
        {
          "output_type": "execute_result",
          "data": {
            "text/plain": [
              "120"
            ]
          },
          "metadata": {},
          "execution_count": 8
        }
      ]
    },
    {
      "cell_type": "code",
      "source": [
        "## program 3 Sum of the numbers\n",
        "\n",
        "def sum(n):\n",
        "  if n==0:\n",
        "    return 0\n",
        "  return n+sum(n-1)\n",
        "\n",
        "sum(6)"
      ],
      "metadata": {
        "colab": {
          "base_uri": "https://localhost:8080/"
        },
        "id": "CvLBPpNJDI7u",
        "outputId": "d27fbcee-988e-4cf3-c65a-ad4c4159650f"
      },
      "execution_count": 11,
      "outputs": [
        {
          "output_type": "execute_result",
          "data": {
            "text/plain": [
              "21"
            ]
          },
          "metadata": {},
          "execution_count": 11
        }
      ]
    },
    {
      "cell_type": "code",
      "source": [
        "## Program 4 print list elements\n",
        "\n",
        "def show(lst,i):\n",
        "  if len(lst)==i:\n",
        "    return\n",
        "  print(lst[i])\n",
        "  show(lst,i+1)\n",
        "\n",
        "show([1,\"Nimisha\",3,\"Zarna\",5],0)"
      ],
      "metadata": {
        "colab": {
          "base_uri": "https://localhost:8080/"
        },
        "id": "YGAOFc0nFqef",
        "outputId": "a5f7cf99-2dd1-4b41-bcff-4b8aa05be66d"
      },
      "execution_count": 15,
      "outputs": [
        {
          "output_type": "stream",
          "name": "stdout",
          "text": [
            "1\n",
            "Nimisha\n",
            "3\n",
            "Zarna\n",
            "5\n"
          ]
        }
      ]
    }
  ]
}